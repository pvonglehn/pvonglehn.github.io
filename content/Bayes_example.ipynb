{
 "cells": [
  {
   "cell_type": "markdown",
   "metadata": {},
   "source": [
    "# Bayes and the worried parents\n",
    "### A simple (morbid) example of how to use Bayes' theorem to update beliefs in light of new data. \n",
    "\n",
    "Notebook author: Patrick von Glehn\n",
    "\n",
    "Example adapted from one given by a listener on the BBC 4 radio program More or Less. \n",
    "\n",
    "\n",
    "## The scenario\n",
    "\n",
    "Every Sunday I go to my parents' house for dinner. After a lovely evening we say goodbye, I get in my car and travel 10 miles home. My parents always insist that I call them as soon as I get home and as I'm a good boy I almost always call, but occasionally, maybe twice a year, I forget. Last time this happened my parents phoned me after they couldn't bare waiting anymore and gave me an earful, saying that I had them worried sick that I'd had a terrible accident and died.\n",
    "\n",
    "I tell them that the reverend Bayes says there was never any need to worry...\n",
    "\n",
    "Bayesian statistics can be used to update our beliefs in light of new data. Let's see how my parents should have rationally updated their beliefs about my vital status given that I hadn't called after driving home from our Sunday dinner.\n",
    "\n",
    "### Spoiler: with probability 99.99995% I was fine and just forgot to call\n",
    "\n",
    "\n",
    "## Bayes' theorem\n",
    "\n",
    "Using Bayes' theorem we can calculate, P(A|B): the probability of event A happening given event B has happened if we know (or can estimate) the following:\n",
    "\n",
    "\n",
    "* P(A): the probability of event A happening under any circumstances (before seeing the data)\n",
    "* P(B|A): the probability of event B happening given event A has happened\n",
    "* P(B): the probability of event B happening under any circumstances\n",
    "<blockquote>$P(A|B) = \\frac{P(A)P(B|A)}{P(B)} $ </blockquote>\n",
    "\n",
    "\n",
    "In our case we want to calculate P(A|B): the probability that I had a fatal car accident given that I didn't call my parents after leaving their house. To do the calculation we need:\n",
    "\n",
    "* P(A): the probability of having a fatal car accident in a 10 mile stretch\n",
    "* P(B|A): the probability that I don't call given that I have had a fatal car accident (certain)\n",
    "* P(B): the probability that I don't call, either because I forgot or because I'm dead\n",
    "\n",
    "\n",
    "Source for data: Department for Transport, Reported road casualties in Great Britain 2018 annual <a href=\"https://assets.publishing.service.gov.uk/government/uploads/system/uploads/attachment_data/file/834585/reported-road-casualties-annual-report-2018.pdf\">report</a>\n"
   ]
  },
  {
   "cell_type": "code",
   "execution_count": 1,
   "metadata": {},
   "outputs": [
    {
     "name": "stdout",
     "output_type": "stream",
     "text": [
      "Probability I'm dead given that I haven't called = 0.0000468% or one in 2.1 million  \n",
      "Probability I'm fine and just forgot to call = 99.99995320002107%\n"
     ]
    }
   ],
   "source": [
    "# P(A): calculate the chance of dying in a 10 mile stretch from data about UK road fatalities\n",
    "UK_fatalities_per_billion_miles_car = 1.8\n",
    "P_dying_in_10_miles_car = UK_fatalities_per_billion_miles_car / 10.0**8 \n",
    "P_not_dying_in_10_miles_car = 1 - P_dying_in_10_miles_car\n",
    "\n",
    "# P(B|A): I definitely won't call if I'm dead\n",
    "P_doesnt_call_if_dead = 1\n",
    "\n",
    "# P(B): I forget to call about twice a year (52 weeks)\n",
    "# The probability that I don't call under any circumstances =\n",
    "# The probability that I arrive safely and then don't call + the probability that I die and then don't call\n",
    "\n",
    "P_doesnt_call_if_not_dead = 2/52\n",
    "P_doesnt_call = (P_not_dying_in_10_miles_car * P_doesnt_call_if_not_dead) + (P_dying_in_10_miles_car * P_doesnt_call_if_dead)\n",
    "\n",
    "# Now let's calculate the final answer...\n",
    "P_dead_if_doesnt_call = (P_dying_in_10_miles_car * P_doesnt_call_if_dead) / P_doesnt_call\n",
    "\n",
    "chance_per_million = 1/(P_dead_if_doesnt_call * 10**6)\n",
    "\n",
    "print(f\"Probability I'm dead given that I haven't called = {P_dead_if_doesnt_call * 100 :.7f}% or one in {chance_per_million:.1f} million  \")\n",
    "print(f\"Probability I'm fine and just forgot to call = {(1 - P_dead_if_doesnt_call)*100}%\")"
   ]
  },
  {
   "cell_type": "markdown",
   "metadata": {},
   "source": [
    "# What about if I ride a motorbike instead of a car?"
   ]
  },
  {
   "cell_type": "code",
   "execution_count": 2,
   "metadata": {},
   "outputs": [
    {
     "name": "stdout",
     "output_type": "stream",
     "text": [
      "Probability I'm dead given that I haven't called = 0.0031121% or one in 32.1 thousand  \n",
      "Probability I'm fine and just forgot to call = 99.9968878931298%\n"
     ]
    }
   ],
   "source": [
    "UK_fatalities_per_billion_miles_motorbike = 119.7\n",
    "P_dying_in_10_miles_motorbike = UK_fatalities_per_billion_miles_motorbike / 10.0**8 \n",
    "P_not_dying_in_10_miles_motorbike = 1 - P_dying_in_10_miles_motorbike\n",
    "\n",
    "P_doesnt_call_if_dead = 1\n",
    "P_doesnt_call_if_not_dead = 2/52\n",
    "P_doesnt_call = ((P_not_dying_in_10_miles_motorbike * P_doesnt_call_if_not_dead) \n",
    "                   + (P_dying_in_10_miles_motorbike * P_doesnt_call_if_dead))\n",
    "\n",
    "P_dead_if_doesnt_call = (P_dying_in_10_miles_motorbike * P_doesnt_call_if_dead) / P_doesnt_call\n",
    "\n",
    "chance_per_thousand = 1/(P_dead_if_doesnt_call * 10**3)\n",
    "\n",
    "print(f\"Probability I'm dead given that I haven't called = {P_dead_if_doesnt_call * 100 :.7f}% or one in {chance_per_thousand:.1f} thousand  \")\n",
    "print(f\"Probability I'm fine and just forgot to call = {(1 - P_dead_if_doesnt_call)*100}%\")"
   ]
  },
  {
   "cell_type": "markdown",
   "metadata": {},
   "source": [
    "# Conclusion:\n",
    "\n",
    "If I don't call, don't worry I almost certainly just forgot. Although if I ride a motorbike regularly I am very significantly increasing my risk of having a fatal accident over the course of my life."
   ]
  }
 ],
 "metadata": {
  "kernelspec": {
   "display_name": "Python 3",
   "language": "python",
   "name": "python3"
  },
  "language_info": {
   "codemirror_mode": {
    "name": "ipython",
    "version": 3
   },
   "file_extension": ".py",
   "mimetype": "text/x-python",
   "name": "python",
   "nbconvert_exporter": "python",
   "pygments_lexer": "ipython3",
   "version": "3.7.4"
  }
 },
 "nbformat": 4,
 "nbformat_minor": 2
}
